{
 "cells": [
  {
   "cell_type": "markdown",
   "metadata": {},
   "source": [
    "### 归并排序\n",
    "#### 算法思想\n",
    ">归并排序算法会把序列分成长度相同的两个子序列，当无法继续往下分时（也就是每个子序列中只有一个数据时），就对子序列进行归并。归并指的是把两个排好序的子序列合并成一个有序序列。该操作会一直重复执行，直到所有子序列都归并为一个整体为止。\n",
    "\n",
    "#### 时间复杂度\n",
    "时间复杂度是$O(nlogn)$"
   ]
  },
  {
   "cell_type": "code",
   "execution_count": 15,
   "metadata": {},
   "outputs": [
    {
     "name": "stdout",
     "output_type": "stream",
     "text": [
      "排序前li: [2, 9, 7, 4, 8, 5, 10, 3, 1, 6]\n",
      "排序后li: [2, 9, 7, 4, 8, 5, 10, 3, 1, 6]\n",
      "返回值: [1, 2, 3, 4, 5, 6, 7, 8, 9, 10]\n"
     ]
    }
   ],
   "source": [
    "# coding: utf-8\n",
    "\n",
    "def merge_sort(alist):\n",
    "    # 归并排序\n",
    "    n = len(alist)\n",
    "    # 当长度小于1，直接返回\n",
    "    if n <= 1:\n",
    "        return alist\n",
    "    \n",
    "    # 取整函数，将原数据分成两个部分\n",
    "    mid = n // 2\n",
    "    # 采用归并排序后形成的左边有序新序列\n",
    "    left_li = merge_sort(alist[:mid])\n",
    "    \n",
    "    # 采用归并排序后形成的右边有序新序列\n",
    "    right_li = merge_sort(alist[mid:])\n",
    "    \n",
    "    # 将两个有序的子序列进行合并\n",
    "    # merge(left, right)\n",
    "    left_pointer, right_pointer = 0, 0\n",
    "    result = []\n",
    "    \n",
    "    while left_pointer < len(left_li) and right_pointer < len(right_li):\n",
    "        if left_li[left_pointer] < right_li[right_pointer]:\n",
    "            result.append(left_li[left_pointer])\n",
    "            left_pointer += 1\n",
    "        else:\n",
    "            result.append(right_li[right_pointer])\n",
    "            right_pointer += 1\n",
    "    \n",
    "    # 若某边已合并完毕，某边还有剩下，直接将该边中的元素追加到列表         \n",
    "    result += left_li[left_pointer:]\n",
    "    result += right_li[right_pointer:]\n",
    "    return result\n",
    "\n",
    "li = [2, 9, 7 ,4, 8, 5, 10, 3, 1, 6]\n",
    "print(\"排序前li:\", li)\n",
    "sort_li = merge_sort(li)\n",
    "print(\"排序后li:\", li)\n",
    "print(\"返回值:\", sort_li)"
   ]
  },
  {
   "cell_type": "code",
   "execution_count": null,
   "metadata": {},
   "outputs": [],
   "source": [
    "if __name__ == \" __main__\":\n",
    "    li = [2, 9, 7 ,4, 8, 5, 10, 3, 1, 6]\n",
    "    print(li)\n",
    "    sort_li = merge_sort(li)\n",
    "    print(li)\n",
    "    print(sort_li)"
   ]
  }
 ],
 "metadata": {
  "kernelspec": {
   "display_name": "Python 3",
   "language": "python",
   "name": "python3"
  },
  "language_info": {
   "codemirror_mode": {
    "name": "ipython",
    "version": 3
   },
   "file_extension": ".py",
   "mimetype": "text/x-python",
   "name": "python",
   "nbconvert_exporter": "python",
   "pygments_lexer": "ipython3",
   "version": "3.7.2"
  },
  "latex_envs": {
   "LaTeX_envs_menu_present": true,
   "autoclose": false,
   "autocomplete": true,
   "bibliofile": "biblio.bib",
   "cite_by": "apalike",
   "current_citInitial": 1,
   "eqLabelWithNumbers": true,
   "eqNumInitial": 1,
   "hotkeys": {
    "equation": "Ctrl-E",
    "itemize": "Ctrl-I"
   },
   "labels_anchors": false,
   "latex_user_defs": false,
   "report_style_numbering": false,
   "user_envs_cfg": false
  },
  "nbTranslate": {
   "displayLangs": [
    "*"
   ],
   "hotkey": "alt-t",
   "langInMainMenu": true,
   "sourceLang": "en",
   "targetLang": "fr",
   "useGoogleTranslate": true
  }
 },
 "nbformat": 4,
 "nbformat_minor": 2
}
