{
 "cells": [
  {
   "cell_type": "markdown",
   "metadata": {},
   "source": [
    "### 堆\n",
    ">堆是图的一种树形结构，被用于实现“优先队列”。优先队列是种数据结构，自由添加数据，取出数据时候先取出最小的值。\n",
    "\n",
    ">作为选择排序的改进版，堆排序可以把每一趟元素的比较结果保存下来，以便我们在选择最小/大元素时对已经比较过的元素做出相应的调整。堆排序是一种树形选择排序，在排序过程中可以把元素看成是一颗完全二叉树，每个节点都大（小）于它的两个子节点.\n",
    "- 当每个节点都大于等于它的两个子节点时，就称为大顶堆，也叫堆有序\n",
    "- 当每个节点都小于等于它的两个子节点时，就称为小顶堆\n",
    "\n",
    "#### 算法思想\n",
    ">算法思想(以大顶堆为例)：\n",
    "\n",
    "1.将长度为n的待排序的数组进行堆有序化，构造成一个大顶堆\n",
    " \n",
    "2.将根节点与尾节点交换，并输出此时的尾节点\n",
    " \n",
    "3.将剩余的n -1个节点重新进行堆有序化\n",
    " \n",
    "4.重复步骤2，步骤3直至构造成一个有序序列\n",
    "\n",
    "#### 特点\n",
    "- 堆的节点中存储的是数据\n",
    "- 每个节点最多两个子节点\n",
    "- 子节点的数据必须大于父节点\n",
    "- 最小值存储于最顶端，即根节点的位置上\n",
    "- 树的形状取决于数据的个数\n",
    "- 节点的排列顺序：\n",
    "     - 从左到右\n",
    "     - 从上到下\n",
    "     \n",
    "#### 输入数据\n",
    "- 插入左右边，再和父节点比较\n",
    "- 如果比父节点小，交换位置\n",
    "- 重复上面的步骤，直至父节点都是小于子节点\n",
    "\n",
    "#### 取出数据\n",
    "- 先取出根节点的数据\n",
    "- 将最右端的数据放在根节点上\n",
    "- 再进行父节点和子节点的比较，满足父节点<子节点\n",
    "- 比较顺序：左右，上下\n",
    "\n",
    "#### 时间复杂度\n",
    "- 取出顶端数据的复杂度是O(1)\n",
    "- 假设数据量是n，树的高度是$log_2{n}$，时间复杂度是$O(log_2{n})\n",
    "\n",
    "### 二叉树\n",
    "二叉查找树是一种树形结构，采用了图的树形结构。每个节点最多两个子节点\n",
    "- 平衡二叉树：修正不均衡的树，保持均衡状态，提高查找效率\n",
    "- B树：每个节点不止一个子节点，可以多个；MySQL中用到了B树\n",
    "\n",
    "特点：\n",
    "- 每个节点的值均大于其左子树上任意一个节点的值：`大于左边`\n",
    "- 每个节点的值均小于其右子树上任意一个节点的值：`小于右边`\n"
   ]
  },
  {
   "cell_type": "code",
   "execution_count": 1,
   "metadata": {},
   "outputs": [],
   "source": [
    "def heapify(arr, n, i): \n",
    "    largest = i  \n",
    "    l = 2 * i + 1     \n",
    "    r = 2 * i + 2 \n",
    "    \n",
    "    if l < n and arr[i] < arr[l]: \n",
    "        largest = l \n",
    "    if r < n and arr[largest] < arr[r]: \n",
    "        largest = r \n",
    "        \n",
    "    if largest != i: \n",
    "        arr[i],arr[largest] = arr[largest],arr[i]  # 交换\n",
    "\n",
    "        heapify(arr, n, largest) \n",
    "\n",
    "def heapSort(arr): \n",
    "    n = len(arr) \n",
    "    # Build a maxheap. \n",
    "    for i in range(n, -1, -1): \n",
    "        heapify(arr, n, i) \n",
    "    # 一个个交换元素\n",
    "    for i in range(n-1, 0, -1): \n",
    "        arr[i], arr[0] = arr[0], arr[i]   # 交换\n",
    "        heapify(arr, i, 0)      \n",
    "    return arr"
   ]
  },
  {
   "cell_type": "code",
   "execution_count": 2,
   "metadata": {},
   "outputs": [
    {
     "data": {
      "text/plain": [
       "[5, 6, 7, 11, 12, 13]"
      ]
     },
     "execution_count": 2,
     "metadata": {},
     "output_type": "execute_result"
    }
   ],
   "source": [
    "arr = [ 12, 11, 13, 5, 6, 7] \n",
    "heapSort(arr)"
   ]
  },
  {
   "cell_type": "code",
   "execution_count": 3,
   "metadata": {},
   "outputs": [],
   "source": [
    "# 如何堆化一个数组 \n",
    "\n",
    "def heapify(alist, n, i):\n",
    "    while i < n:\n",
    "        c1 = 2 * i + 1\n",
    "        c2 = 2 * i + 2\n",
    "        max = i\n",
    "        if c1 < n and alist[c1] > alist[max]:\n",
    "            max = c1\n",
    "        if c2 < n and alist[c2] > alist[max]:\n",
    "            max = c2\n",
    "        if max != i:\n",
    "            alist[max], alist[i] = alist[i], alist[max]\n",
    "            heapify(alist, n, max)\n",
    "\n",
    "        return alist"
   ]
  },
  {
   "cell_type": "code",
   "execution_count": 4,
   "metadata": {},
   "outputs": [
    {
     "data": {
      "text/plain": [
       "[10, 5, 3, 4, 1, 2]"
      ]
     },
     "execution_count": 4,
     "metadata": {},
     "output_type": "execute_result"
    }
   ],
   "source": [
    "alist=[4, 10, 3, 5, 1, 2]\n",
    "heapify(alist, 6, 0)"
   ]
  },
  {
   "cell_type": "code",
   "execution_count": 5,
   "metadata": {},
   "outputs": [],
   "source": [
    "def heapify(alist, n, i):\n",
    "    # 单个子树的堆化过程\n",
    "    \n",
    "    # 左右子树的下标\n",
    "    c1 = 2 * i + 1\n",
    "    c2 = 2 * i + 2\n",
    "    \n",
    "    # 假设下标为i的节点最大，然后和左右两个子节点进行比较和交换动作\n",
    "    max = i\n",
    "    if c1 < n and alist[c1] > alist[max]:\n",
    "        max = c1\n",
    "    if c2 < n and alist[c2] > alist[max]:\n",
    "        max = c2\n",
    "    if max != i:   # 如果上面两个if中有一直执行，则max会变成c1或者c2，此时max不再是i，需要进行交换\n",
    "        alist[max], alist[i] = alist[i], alist[max]   # 实质上是把alist[c1]或者alist[c2]的值和alist[i]进行交换\n",
    "        heapify(alist, n, max)  # 交换完之后再对底层的进行递归堆化，max已经是c1或者c2\n",
    "            \n",
    "def build_heap(alist, n):\n",
    "    # 整个堆的建立\n",
    "    last_node = n - 1   # 最后一个节点的下标\n",
    "    parent = int((last_node - 1) / 2)  # 此节点的父节点下标，注意数据类型，需要int强制转换\n",
    "    for i in range(parent + 1, -1, -1):  # 构建节点的下标递减1，视频中：3--->2--->1--->0\n",
    "        heapify(alist, n, i)  # 递归构建堆 \n",
    "\n",
    "def heap_sort(alist, n):\n",
    "    # 堆排序\n",
    "    # 将根节点和最后的节点的值进行交换，取出根节点的值（大）\n",
    "    # 此时破坏了堆的结构，重新构建堆，调用heapify()\n",
    "    build_heap(alist, n)\n",
    "    for i in range(n-1, -1, -1):   # (n-1, 0, -1)也是可以的，最后的一个可以不用比较，直接取出来\n",
    "        alist[i], alist[0] = alist[0], alist[i]\n",
    "        heapify(alist, i, 0) \n",
    "\n",
    "    return alist\n"
   ]
  },
  {
   "cell_type": "code",
   "execution_count": 6,
   "metadata": {},
   "outputs": [
    {
     "name": "stdout",
     "output_type": "stream",
     "text": [
      "[1, 2, 3, 4, 5, 6, 7, 8, 9, 10]\n"
     ]
    }
   ],
   "source": [
    "alist = [3, 9, 2, 8, 7, 4, 6, 1, 5, 10]\n",
    "res = heap_sort(alist, 10)\n",
    "print(res)"
   ]
  }
 ],
 "metadata": {
  "kernelspec": {
   "display_name": "Python 3",
   "language": "python",
   "name": "python3"
  },
  "language_info": {
   "codemirror_mode": {
    "name": "ipython",
    "version": 3
   },
   "file_extension": ".py",
   "mimetype": "text/x-python",
   "name": "python",
   "nbconvert_exporter": "python",
   "pygments_lexer": "ipython3",
   "version": "3.7.2"
  },
  "latex_envs": {
   "LaTeX_envs_menu_present": true,
   "autoclose": false,
   "autocomplete": true,
   "bibliofile": "biblio.bib",
   "cite_by": "apalike",
   "current_citInitial": 1,
   "eqLabelWithNumbers": true,
   "eqNumInitial": 1,
   "hotkeys": {
    "equation": "Ctrl-E",
    "itemize": "Ctrl-I"
   },
   "labels_anchors": false,
   "latex_user_defs": false,
   "report_style_numbering": false,
   "user_envs_cfg": false
  },
  "nbTranslate": {
   "displayLangs": [
    "*"
   ],
   "hotkey": "alt-t",
   "langInMainMenu": true,
   "sourceLang": "en",
   "targetLang": "fr",
   "useGoogleTranslate": true
  }
 },
 "nbformat": 4,
 "nbformat_minor": 2
}
