{
 "cells": [
  {
   "cell_type": "markdown",
   "metadata": {},
   "source": [
    "### 希尔排序\n",
    "#### 思想\n",
    "希尔排序是插入排序的一种，也称之为缩小增量排序。希尔排序是非稳定排序算法，实现过程：\n",
    "- 将记录按照下标的一定增量进行分组，对每个组进行插入排序\n",
    "- 增量逐渐减少，当减少至1时，算法终止\n",
    "\n",
    "#### 栗子\n",
    "假设步长为step，对[1, 8, 2, 9, 3, 7, 4, 6, 5]进行排序，步长一般是按照折半进行选取\n",
    "- 步长取4：对[1, 3, 5],[8, 7],[2, 4],[9, 6]分别进行插入排序\n",
    "- 步长取2：对上述排序的序列，再按照类似的方法进行排序\n",
    "- 步长取1：重复操作\n",
    "\n",
    "#### 时间复杂度\n",
    "- 最优时间复杂度：根据步长序列的不同而不同\n",
    "- 最坏时间复杂度：$O(n^2)$\n",
    "- 稳定性：：不稳定"
   ]
  },
  {
   "cell_type": "code",
   "execution_count": 10,
   "metadata": {},
   "outputs": [],
   "source": [
    "def shell_sort(alist):\n",
    "    # 希尔排序：核心是插入排序\n",
    "    n = len(alist)\n",
    "    # 折半：取整数解，防止小数:n=9,step=4\n",
    "    step = n // 2\n",
    "    i = 1\n",
    "    \n",
    "    # 步长变化到0之前即1，插入算法执行的次数 \n",
    "    while step > 0:\n",
    "        # 插入算法：与普通插入算法的区别就是步长step\n",
    "        for j in range(step, n):\n",
    "            # j = gap, gap+1, ..., n-1\n",
    "            i = j\n",
    "            while i > 0:\n",
    "                if alist[i] < alist[i-step]:\n",
    "                    # 比较的两个数下标相差为步长step\n",
    "                    alist[i], alist[i-step] = alist[i-step], alist[i]\n",
    "                    i -= step\n",
    "                else:\n",
    "                    break\n",
    "        # 一个for循环结束则缩短步长step\n",
    "        step //= 2\n",
    "        \n",
    "    return alist"
   ]
  },
  {
   "cell_type": "code",
   "execution_count": 12,
   "metadata": {},
   "outputs": [
    {
     "data": {
      "text/plain": [
       "[1, 2, 3, 4, 5, 6, 7, 8, 9]"
      ]
     },
     "execution_count": 12,
     "metadata": {},
     "output_type": "execute_result"
    }
   ],
   "source": [
    "shell_sort([1, 8, 9, 2, 7, 3, 5, 6, 4])"
   ]
  }
 ],
 "metadata": {
  "kernelspec": {
   "display_name": "Python 3",
   "language": "python",
   "name": "python3"
  },
  "language_info": {
   "codemirror_mode": {
    "name": "ipython",
    "version": 3
   },
   "file_extension": ".py",
   "mimetype": "text/x-python",
   "name": "python",
   "nbconvert_exporter": "python",
   "pygments_lexer": "ipython3",
   "version": "3.7.2"
  },
  "latex_envs": {
   "LaTeX_envs_menu_present": true,
   "autoclose": false,
   "autocomplete": true,
   "bibliofile": "biblio.bib",
   "cite_by": "apalike",
   "current_citInitial": 1,
   "eqLabelWithNumbers": true,
   "eqNumInitial": 1,
   "hotkeys": {
    "equation": "Ctrl-E",
    "itemize": "Ctrl-I"
   },
   "labels_anchors": false,
   "latex_user_defs": false,
   "report_style_numbering": false,
   "user_envs_cfg": false
  },
  "nbTranslate": {
   "displayLangs": [
    "*"
   ],
   "hotkey": "alt-t",
   "langInMainMenu": true,
   "sourceLang": "en",
   "targetLang": "fr",
   "useGoogleTranslate": true
  }
 },
 "nbformat": 4,
 "nbformat_minor": 2
}
