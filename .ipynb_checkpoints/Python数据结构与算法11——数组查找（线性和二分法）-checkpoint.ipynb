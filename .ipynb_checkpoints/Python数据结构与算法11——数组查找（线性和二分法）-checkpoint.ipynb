{
 "cells": [
  {
   "cell_type": "markdown",
   "metadata": {},
   "source": [
    "### 线性查找\n",
    "- 数组中存储的数据不一定是有序的，可以查找无序的\n",
    "- 从头到尾依次进行查找，存储的数据类型没有限制\n",
    "- 比较次数多，耗时间\n",
    "- 时间复杂度是$O(n)$\n",
    "\n",
    "### 二分查找\n",
    ">折半查找，比较次数少，速度快，只能作用于有序数组和顺序表，当查找范围内只有一个数据的时候，结束查找。\n",
    "\n",
    "- 最优时间复杂度：$O(1)$\n",
    "- 最坏时间复杂度：$O(logn)$"
   ]
  },
  {
   "cell_type": "code",
   "execution_count": null,
   "metadata": {},
   "outputs": [],
   "source": [
    "def linear_search(alist, obj):\n",
    "    n = len(alist)\n",
    "    i = 0\n",
    "\n",
    "    while i < n:\n",
    "        if obj == alist[i]:\n",
    "            # 如果找到直接返回obj和索引值\n",
    "            return \"Find number {} in place {}\".format(obj, i)\n",
    "        else:\n",
    "            # 否则，索引值加1，继续查找\n",
    "            i += 1\n",
    "            if i < n:\n",
    "                pass\n",
    "            else:\n",
    "                # 这条语句用来判断最后一个元素\n",
    "                return \"{} is not in alist\".format(obj)"
   ]
  },
  {
   "cell_type": "code",
   "execution_count": 2,
   "metadata": {},
   "outputs": [
    {
     "name": "stdout",
     "output_type": "stream",
     "text": [
      "Find number 8 in place 4\n",
      "7 is not in alist\n"
     ]
    }
   ],
   "source": [
    "print(linear_search([1, 9, 6, 3, 8, 5], 8))\n",
    "print(linear_search([1, 9, 6, 3, 8, 5], 7))"
   ]
  },
  {
   "cell_type": "code",
   "execution_count": 3,
   "metadata": {},
   "outputs": [
    {
     "name": "stdout",
     "output_type": "stream",
     "text": [
      "Number:\t8\n",
      "Find number 8 in place 4.\n"
     ]
    }
   ],
   "source": [
    "def LinearSearch(list):\n",
    "    # 输出需要查找的数字\n",
    "    num = int(input('Number:\\t'))\n",
    "    counter = 0\n",
    "    null = 0\n",
    "\n",
    "    for i in list:\n",
    "        # 判断输入的数字和列表中的元素是否相等，相等则打印\n",
    "        if i == num:\n",
    "            print('Find number {} in place {}.'.format(num, counter))\n",
    "        else:\n",
    "            # 不等的话，null加1\n",
    "            null += 1\n",
    "        # 每执行一次进入i，count都要自己加1，和上面的if没有关系\n",
    "        counter += 1\n",
    "    if null == counter:\n",
    "        print('Don\\'t find it.')\n",
    "\n",
    "list = [1, 2, 5, 7, 8, 34, 567, -1, 0, -1, -3, -9, 0]\n",
    "LinearSearch(list)"
   ]
  },
  {
   "cell_type": "code",
   "execution_count": 4,
   "metadata": {},
   "outputs": [],
   "source": [
    "# coding: utf-8\n",
    "\n",
    "def binary_search(alist, item):\n",
    "    # 二分查找，递归版本\n",
    "    n = len(alist)\n",
    "    \n",
    "    # 只有if条件才能进行操作\n",
    "    if n > 0:\n",
    "        mid = n // 2\n",
    "        if alist[mid] == item:\n",
    "            return True\n",
    "        elif item < alist[mid]:\n",
    "            # item在左边部分继续查找\n",
    "            return binary_search(alist[:mid], item)\n",
    "        else:\n",
    "            # 右边继续查找\n",
    "            return binary_search(alist[mid+1:], item)\n",
    "    return False\n",
    "\n",
    "\n",
    "# 非递归二分查找\n",
    "def binary_search2(alist, item):\n",
    "    # 非递归\n",
    "    n = len(alist)\n",
    "    first = 0\n",
    "    last = n-1\n",
    "    \n",
    "    while first <= last:\n",
    "        mid = (first + last) // 2\n",
    "        if alist[mid] == item:\n",
    "            return True\n",
    "        # 下面的语句只是将搜索的范围缩小\n",
    "        elif item < alist[mid]:\n",
    "            last = mid - 1\n",
    "        else:\n",
    "            first = mid + 1\n",
    "    return False"
   ]
  },
  {
   "cell_type": "code",
   "execution_count": 5,
   "metadata": {},
   "outputs": [
    {
     "name": "stdout",
     "output_type": "stream",
     "text": [
      "True\n",
      "False\n",
      "True\n",
      "False\n"
     ]
    }
   ],
   "source": [
    "if __name__ == \"__main__\":\n",
    "    li = [1, 3, 4, 6, 7 ,8 ,9, 10, 17]\n",
    "    print(binary_search(li, 8))\n",
    "    print(binary_search(li, 88))\n",
    "    \n",
    "    print(binary_search2(li, 8))\n",
    "    print(binary_search2(li, 88))"
   ]
  }
 ],
 "metadata": {
  "kernelspec": {
   "display_name": "Python 3",
   "language": "python",
   "name": "python3"
  },
  "language_info": {
   "codemirror_mode": {
    "name": "ipython",
    "version": 3
   },
   "file_extension": ".py",
   "mimetype": "text/x-python",
   "name": "python",
   "nbconvert_exporter": "python",
   "pygments_lexer": "ipython3",
   "version": "3.7.2"
  },
  "latex_envs": {
   "LaTeX_envs_menu_present": true,
   "autoclose": false,
   "autocomplete": true,
   "bibliofile": "biblio.bib",
   "cite_by": "apalike",
   "current_citInitial": 1,
   "eqLabelWithNumbers": true,
   "eqNumInitial": 1,
   "hotkeys": {
    "equation": "Ctrl-E",
    "itemize": "Ctrl-I"
   },
   "labels_anchors": false,
   "latex_user_defs": false,
   "report_style_numbering": false,
   "user_envs_cfg": false
  },
  "nbTranslate": {
   "displayLangs": [
    "*"
   ],
   "hotkey": "alt-t",
   "langInMainMenu": true,
   "sourceLang": "en",
   "targetLang": "fr",
   "useGoogleTranslate": true
  }
 },
 "nbformat": 4,
 "nbformat_minor": 2
}
