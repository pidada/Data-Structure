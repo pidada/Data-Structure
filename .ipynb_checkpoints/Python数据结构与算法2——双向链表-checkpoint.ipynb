{
 "cells": [
  {
   "cell_type": "markdown",
   "metadata": {},
   "source": [
    "### 双向链表\n",
    "- 后继节点：指向下一个节点\n",
    "- 前驱节点：指向前一个节点\n",
    "- 头节点没有前驱节点，尾节点没有后继节点"
   ]
  },
  {
   "cell_type": "code",
   "execution_count": null,
   "metadata": {},
   "outputs": [],
   "source": [
    "# coding: utf-8\n",
    "\n",
    "# 定义节点\n",
    "class Node(object):\n",
    "    def __init__(self, item):\n",
    "        self.elem = item\n",
    "        self.next = None\n",
    "        self.prev = None\n",
    "        \n",
    "class DoubleLinkList(object):\n",
    "    def __init__(self, node=None)\n",
    "        # head的内部属性指向头节点\n",
    "        self.__head = node\n",
    "    \n",
    "    def is_empty(self):\n",
    "        return self.__head is None\n",
    "    \n",
    "    def length(self):\n",
    "        cur = self.__head\n",
    "        count = 0\n",
    "        while cur != None:\n",
    "            count += 1\n",
    "            cur = cur.next\n",
    "        return count\n",
    "    \n",
    "    def travel(self):\n",
    "        cur = self.__head\n",
    "        while cur != None:\n",
    "            print(cur.elem, end=\" \")\n",
    "            cur = cur.next\n",
    "        print(\"\")\n",
    "        \n",
    "    def add(self, item):\n",
    "        # 头部插入\n",
    "        node = Node(item)\n",
    "        node.next = self.__head\n",
    "        self.__head = node\n",
    "        node.next.prev = node\n",
    "        # self.__head.prev = node\n",
    "        # self.__head = node\n",
    "        \n",
    "    def append(self, item):\n",
    "        # 尾部插入\n",
    "        node = Node(item)\n",
    "        if self.is_empty():\n",
    "            self.__head = node\n",
    "        else:\n",
    "            # 游标从头开始走\n",
    "            cur = self.__head\n",
    "            while cur.next != None:\n",
    "                cur = cur.next\n",
    "            # 退出循环的操作\n",
    "            cur.next = node\n",
    "            node.prev = cur\n",
    "            \n",
    "    def insert(self, pos, item):\n",
    "        # 指定位置插入\n",
    "        # 如果pos <= 0，相当于是pos=0，看做是在头部插入add方法\n",
    "        if pos <= 0:\n",
    "            self.add(item)\n",
    "        # 如果pos比链表最后一个元素的位置还大，默认看做是在尾部插入\n",
    "        elif pos > (self.length()-1):\n",
    "            self.append(item)\n",
    "        else:\n",
    "            pre = self.__head\n",
    "            count = 0\n",
    "            while count < pos:\n",
    "                count += 1\n",
    "                cur = cur.next\n",
    "            # 退出循环，cur指向pos位置\n",
    "            node = Node(item)\n",
    "            node.next = cur\n",
    "            node.prev = cur.prev\n",
    "            cur.prev.next = node\n",
    "            cur.prev = node\n",
    "            # 上面两条等价于下两条\n",
    "            # cur.prev = node\n",
    "            # node.prev.next = node"
   ]
  }
 ],
 "metadata": {
  "kernelspec": {
   "display_name": "Python 3",
   "language": "python",
   "name": "python3"
  },
  "language_info": {
   "codemirror_mode": {
    "name": "ipython",
    "version": 3
   },
   "file_extension": ".py",
   "mimetype": "text/x-python",
   "name": "python",
   "nbconvert_exporter": "python",
   "pygments_lexer": "ipython3",
   "version": "3.7.2"
  },
  "latex_envs": {
   "LaTeX_envs_menu_present": true,
   "autoclose": false,
   "autocomplete": true,
   "bibliofile": "biblio.bib",
   "cite_by": "apalike",
   "current_citInitial": 1,
   "eqLabelWithNumbers": true,
   "eqNumInitial": 1,
   "hotkeys": {
    "equation": "Ctrl-E",
    "itemize": "Ctrl-I"
   },
   "labels_anchors": false,
   "latex_user_defs": false,
   "report_style_numbering": false,
   "user_envs_cfg": false
  },
  "nbTranslate": {
   "displayLangs": [
    "*"
   ],
   "hotkey": "alt-t",
   "langInMainMenu": true,
   "sourceLang": "en",
   "targetLang": "fr",
   "useGoogleTranslate": true
  }
 },
 "nbformat": 4,
 "nbformat_minor": 2
}
