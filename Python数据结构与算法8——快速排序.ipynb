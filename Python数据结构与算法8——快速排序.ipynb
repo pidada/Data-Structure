{
 "cells": [
  {
   "cell_type": "markdown",
   "metadata": {},
   "source": [
    "### 快速排序\n",
    "#### 算法思想\n",
    "#### 栗子\n",
    "#### 时间复杂度\n"
   ]
  },
  {
   "cell_type": "code",
   "execution_count": null,
   "metadata": {},
   "outputs": [],
   "source": [
    "def quick_sort(alist):\n",
    "    n = len(alist)\n",
    "    mid_value = alist[0]\n",
    "    low = 0\n",
    "    high = n-1\n",
    "    \n",
    "    while low < high:\n",
    "        # 如果high指向的元素比mid_value大，说明high就留在右边\n",
    "        if alist[high] > mid_value:\n",
    "            # 同时high的指针往左移动\n",
    "            high -= 1"
   ]
  },
  {
   "cell_type": "code",
   "execution_count": 4,
   "metadata": {},
   "outputs": [
    {
     "name": "stdout",
     "output_type": "stream",
     "text": [
      "[2, 3, 5, 8, 9, 10]\n"
     ]
    }
   ],
   "source": [
    "# 图解算法书上的解答\n",
    "def quicksort(array):\n",
    "    # 判断只有一个元素的情况\n",
    "    if len(array) < 2:\n",
    "        return array\n",
    "    else:\n",
    "        # 指定基数\n",
    "        pivot = array[0]\n",
    "        # 基准数左边\n",
    "        less = [i for i in array[1:] if i <= pivot]\n",
    "        # 基准数右边\n",
    "        greater = [i for i in array[1:] if i > pivot]\n",
    "        # 调用函数自身，递归思想\n",
    "        return quicksort(less) + [pivot] + quicksort(greater)\n",
    "print (quicksort([10, 5, 2, 9, 3, 8]))"
   ]
  },
  {
   "cell_type": "code",
   "execution_count": null,
   "metadata": {},
   "outputs": [],
   "source": []
  }
 ],
 "metadata": {
  "kernelspec": {
   "display_name": "Python 3",
   "language": "python",
   "name": "python3"
  },
  "language_info": {
   "codemirror_mode": {
    "name": "ipython",
    "version": 3
   },
   "file_extension": ".py",
   "mimetype": "text/x-python",
   "name": "python",
   "nbconvert_exporter": "python",
   "pygments_lexer": "ipython3",
   "version": "3.7.2"
  },
  "latex_envs": {
   "LaTeX_envs_menu_present": true,
   "autoclose": false,
   "autocomplete": true,
   "bibliofile": "biblio.bib",
   "cite_by": "apalike",
   "current_citInitial": 1,
   "eqLabelWithNumbers": true,
   "eqNumInitial": 1,
   "hotkeys": {
    "equation": "Ctrl-E",
    "itemize": "Ctrl-I"
   },
   "labels_anchors": false,
   "latex_user_defs": false,
   "report_style_numbering": false,
   "user_envs_cfg": false
  },
  "nbTranslate": {
   "displayLangs": [
    "*"
   ],
   "hotkey": "alt-t",
   "langInMainMenu": true,
   "sourceLang": "en",
   "targetLang": "fr",
   "useGoogleTranslate": true
  }
 },
 "nbformat": 4,
 "nbformat_minor": 2
}
