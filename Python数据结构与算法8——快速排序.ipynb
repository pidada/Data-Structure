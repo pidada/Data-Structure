{
 "cells": [
  {
   "cell_type": "markdown",
   "metadata": {},
   "source": [
    "### 快速排序\n",
    "#### 算法思想\n",
    ">快速排序算法首先会在序列中随机选择一个基准值（pivot），然后将除了基准值以外的数分为“比基准值小的数”和“比基准值大的数”这两个类别，再将其排列成以下形式:\n",
    "\n",
    ">[ 比基准值小] 基准值 [比基准值大]\n",
    "\n",
    ">接着，对两个“[ ]”中的数据进行排序之后，整体的排序便完成了。对“[ ]”里面的数据进行排序时同样也会使用快速排序，即使用递归的思想。\n",
    "#### 时间复杂度\n",
    "时间复杂度$nlog_2(n)$\n",
    "\n",
    "不稳定"
   ]
  },
  {
   "cell_type": "code",
   "execution_count": 7,
   "metadata": {},
   "outputs": [
    {
     "name": "stdout",
     "output_type": "stream",
     "text": [
      "[1, 9, 6, 3, 8, 4, 7, 5, 2]\n",
      "[1, 2, 3, 4, 5, 6, 7, 8, 9]\n"
     ]
    }
   ],
   "source": [
    "def quick_sort(alist, first ,last):\n",
    "    # 快速排序 \n",
    "    if first >= last:\n",
    "        return\n",
    "    \n",
    "    # 先选择基准值，即第一个元素\n",
    "    mid_value = alist[first]\n",
    "    # 通过两个游标的从头部和尾部的移动来确定基准值的位置\n",
    "    # 满足左边的比基准值小，右边的比基准值大\n",
    "    low = first\n",
    "    high = last\n",
    "    \n",
    "    while low < high:\n",
    "        # 下面两个循环交替执行，不断的左右移动\n",
    "        \n",
    "        # 如果high指向的元素比基准值大，说明该值应该留在右边\n",
    "        while low < high and alist[high] >= mid_value:\n",
    "            # 同时high的指针往左移动\n",
    "            high -= 1\n",
    "        # 如果不满足循环条件，则说明high指向的值比基准值小，和前面low指向的值交换位置\n",
    "        alist[low] = alist[high]\n",
    "\n",
    "        # 对于左边的low指向的值小于基准值，放在左边\n",
    "        while low < high and alist[low] < mid_value:\n",
    "            low += 1\n",
    "        # 不满足while循环则交换位置\n",
    "        alist[high] = alist[low]\n",
    "    # 从循环退出，low == high\n",
    "    alist[low] = mid_value\n",
    "    \n",
    "    # 递归调用函数自身：传入下标的起始值不同，还是原来的列表\n",
    "    \n",
    "    # 基准值左边的列表进行快排\n",
    "    quick_sort(alist,first, low-1)\n",
    "    \n",
    "    # 基准值右边的列表进行快排\n",
    "    quick_sort(alist,low+1, last)\n",
    "    \n",
    "if __name__ == \"__main__\":\n",
    "    li = [1, 9, 6, 3, 8, 4, 7, 5, 2]\n",
    "    print(li)\n",
    "    quick_sort(li, 0, len(li)-1)\n",
    "    print(li)"
   ]
  },
  {
   "cell_type": "code",
   "execution_count": 3,
   "metadata": {},
   "outputs": [
    {
     "name": "stdout",
     "output_type": "stream",
     "text": [
      "[2, 3, 5, 5, 8, 9, 10]\n"
     ]
    }
   ],
   "source": [
    "# 图解算法书上的解答\n",
    "def quicksort(array):\n",
    "    # 判断只有一个元素的情况\n",
    "    if len(array) < 2:\n",
    "        return array\n",
    "    else:\n",
    "        # 指定基数\n",
    "        pivot = array[0]\n",
    "        # 基准数左边：从原有列表中选择出 <= 基准值的元素\n",
    "        less = [i for i in array[1:] if i <= pivot]\n",
    "        # 基准数右边\n",
    "        greater = [i for i in array[1:] if i > pivot]\n",
    "        # 调用函数自身，递归思想\n",
    "        return quicksort(less) + [pivot] + quicksort(greater)\n",
    "print (quicksort([10, 5, 2, 9, 3, 8, 5]))"
   ]
  }
 ],
 "metadata": {
  "kernelspec": {
   "display_name": "Python 3",
   "language": "python",
   "name": "python3"
  },
  "language_info": {
   "codemirror_mode": {
    "name": "ipython",
    "version": 3
   },
   "file_extension": ".py",
   "mimetype": "text/x-python",
   "name": "python",
   "nbconvert_exporter": "python",
   "pygments_lexer": "ipython3",
   "version": "3.7.2"
  },
  "latex_envs": {
   "LaTeX_envs_menu_present": true,
   "autoclose": false,
   "autocomplete": true,
   "bibliofile": "biblio.bib",
   "cite_by": "apalike",
   "current_citInitial": 1,
   "eqLabelWithNumbers": true,
   "eqNumInitial": 1,
   "hotkeys": {
    "equation": "Ctrl-E",
    "itemize": "Ctrl-I"
   },
   "labels_anchors": false,
   "latex_user_defs": false,
   "report_style_numbering": false,
   "user_envs_cfg": false
  },
  "nbTranslate": {
   "displayLangs": [
    "*"
   ],
   "hotkey": "alt-t",
   "langInMainMenu": true,
   "sourceLang": "en",
   "targetLang": "fr",
   "useGoogleTranslate": true
  }
 },
 "nbformat": 4,
 "nbformat_minor": 2
}
