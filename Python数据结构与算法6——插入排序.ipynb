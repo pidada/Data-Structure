{
 "cells": [
  {
   "cell_type": "markdown",
   "metadata": {},
   "source": [
    "### 插入算法\n",
    "#### 思想\n",
    "- 和选择排序类似的思想：将数据分成两个部分，排好序和待排序的部分。\n",
    "- 不同之处在于\n",
    "    - 选择：从未排序的部分选择最小数据放到前面排好序的数据中\n",
    "    - 插入：将未排序的部分第一个数据和前面的数据比较，插入相应的位置\n",
    "    \n",
    "#### 栗子\n",
    "将1看做是排好序的数据，后面是待排序的数据\n",
    "[1,]    [8, 9, 7, 3, 5, 2, 6, 4]\n",
    "- 第一步：待排序的数据第一个是8，比1大，放到1的后面\n",
    "[1, 8,]    [9, 7, 3, 5, 2, 6, 4]\n",
    "- 第二步：待排序的第一个数据是9，比前面排好序的1和8都要大，所以排在8的后面\n",
    "[1, 8, 9,]    [7, 3, 5, 2, 6, 4]\n",
    "- 第三步：待排序的第一个数据是7，放到1的后面\n",
    "[1, 7, 8, 9,] [3, 5, 2, 6, 4]\n",
    "- 以此类推......\n",
    "\n",
    "#### 时间复杂度\n",
    "- 最优时间复杂度：$O(n)$\n",
    "- 最坏时间复杂度：$O(n^2)$\n",
    "- 稳定性：稳定"
   ]
  },
  {
   "cell_type": "code",
   "execution_count": 26,
   "metadata": {},
   "outputs": [],
   "source": [
    "def insert_sort(alist):\n",
    "    # 插入排序\n",
    "    n = len(alist)\n",
    "    # 执行的总次数是从第二个元素到最后一个元素\n",
    "    # 从右边的无序序列中取出多少个元素执行的过程\n",
    "    for j in range(1, n):\n",
    "        # i代表内层循环的起始值\n",
    "        i = j\n",
    "        # 从右边的无序序列中选出第一个元素，即下标为i的元素，插入前面的序列中\n",
    "        # alist[i]和前面的每个元素进行比较，所以执行一次都要自减1\n",
    "        \n",
    "        # 只要i>0循环和比较要一直执行，直到等于0结束\n",
    "        while i > 0:\n",
    "            if alist[i] < alist[i-1]:\n",
    "                alist[i], alist[i-1] = alist[i-1], alist[i]\n",
    "                i -= 1\n",
    "            # 结束比较，直接退出循环\n",
    "            else:\n",
    "                break\n",
    "    return alist"
   ]
  },
  {
   "cell_type": "code",
   "execution_count": 27,
   "metadata": {},
   "outputs": [
    {
     "data": {
      "text/plain": [
       "[1, 2, 3, 4, 5, 6, 7, 8, 9]"
      ]
     },
     "execution_count": 27,
     "metadata": {},
     "output_type": "execute_result"
    }
   ],
   "source": [
    "insert_sort([1, 8, 9, 7, 3, 5, 2, 6, 4])"
   ]
  },
  {
   "cell_type": "code",
   "execution_count": 28,
   "metadata": {},
   "outputs": [],
   "source": [
    "# 方法二\n",
    "def insert_sort1(alist):\n",
    "    n = len(alist)\n",
    "    for i in range(n):\n",
    "        # 上面的方法中最开始i=j，执行自减操作，变成了：j-1, j-2,...,1\n",
    "        # 内层写成for循环\n",
    "        for j in range(i, 0, -1):\n",
    "            if alist[j] < alist[j-1]:\n",
    "                alist[j], alist[j-1] = alist[j-1], alist[j]\n",
    "    return alist"
   ]
  },
  {
   "cell_type": "code",
   "execution_count": 29,
   "metadata": {},
   "outputs": [
    {
     "data": {
      "text/plain": [
       "[1, 2, 3, 4, 5, 6, 7, 8, 9]"
      ]
     },
     "execution_count": 29,
     "metadata": {},
     "output_type": "execute_result"
    }
   ],
   "source": [
    "insert_sort1([1, 8, 9, 7, 3, 5, 2, 6, 4])"
   ]
  }
 ],
 "metadata": {
  "kernelspec": {
   "display_name": "Python 3",
   "language": "python",
   "name": "python3"
  },
  "language_info": {
   "codemirror_mode": {
    "name": "ipython",
    "version": 3
   },
   "file_extension": ".py",
   "mimetype": "text/x-python",
   "name": "python",
   "nbconvert_exporter": "python",
   "pygments_lexer": "ipython3",
   "version": "3.7.2"
  },
  "latex_envs": {
   "LaTeX_envs_menu_present": true,
   "autoclose": false,
   "autocomplete": true,
   "bibliofile": "biblio.bib",
   "cite_by": "apalike",
   "current_citInitial": 1,
   "eqLabelWithNumbers": true,
   "eqNumInitial": 1,
   "hotkeys": {
    "equation": "Ctrl-E",
    "itemize": "Ctrl-I"
   },
   "labels_anchors": false,
   "latex_user_defs": false,
   "report_style_numbering": false,
   "user_envs_cfg": false
  },
  "nbTranslate": {
   "displayLangs": [
    "*"
   ],
   "hotkey": "alt-t",
   "langInMainMenu": true,
   "sourceLang": "en",
   "targetLang": "fr",
   "useGoogleTranslate": true
  }
 },
 "nbformat": 4,
 "nbformat_minor": 2
}
