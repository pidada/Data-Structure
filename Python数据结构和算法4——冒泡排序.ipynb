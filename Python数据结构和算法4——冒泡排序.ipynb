{
 "cells": [
  {
   "cell_type": "markdown",
   "metadata": {},
   "source": [
    "### 冒泡排序\n",
    "\n",
    "#### 思想\n",
    "- 每次将相邻的两个元素进行比较，大的元素放在右边\n",
    "- 每次比较完毕，最大的元素一定回到最右边\n",
    "- 下次比较的时候，已经排好序的数不需要再进行排序\n",
    "- 算法稳定\n",
    "\n",
    "内外两层的控制：\n",
    "- 外层控制总共比较多少轮\n",
    "- 内层控制每次比较的次数\n",
    "#### 时间复杂度\n",
    "- 最优时间复杂度：$O(n)$\n",
    "- 最坏时间复杂度：$O(n^2)$"
   ]
  },
  {
   "cell_type": "code",
   "execution_count": 8,
   "metadata": {},
   "outputs": [],
   "source": [
    "def bubble_sort(alist):\n",
    "    # 冒泡排序\n",
    "    n = len(alist)\n",
    "    # 外层循环控制走多少趟：最后一个数到达末尾，无需再进行比较\n",
    "    for j in range(n-1):\n",
    "        # 内层循环控制每趟比较多少次：已经排好序的数不需再进行比较（j个）\n",
    "        for i in range(0, n-j-1):\n",
    "            # 升序排列\n",
    "            if alist[i] > alist[i+1]:\n",
    "                alist[i], alist[i+1] = alist[i+1], alist[i]\n",
    "    return alist"
   ]
  },
  {
   "cell_type": "code",
   "execution_count": 9,
   "metadata": {},
   "outputs": [
    {
     "data": {
      "text/plain": [
       "[1, 2, 3, 4, 5, 6, 7, 8, 9]"
      ]
     },
     "execution_count": 9,
     "metadata": {},
     "output_type": "execute_result"
    }
   ],
   "source": [
    "bubble_sort([1, 8, 9, 7, 3, 5, 2, 6, 4])"
   ]
  },
  {
   "cell_type": "code",
   "execution_count": 14,
   "metadata": {},
   "outputs": [],
   "source": [
    "def bubble_sort1(alist):\n",
    "    n = len(alist)\n",
    "    for j in range(len(alist)-1, 0 ,-1):\n",
    "        for i in range(j):\n",
    "             # 升序排列\n",
    "            if alist[i] > alist[i+1]:\n",
    "                alist[i], alist[i+1] = alist[i+1], alist[i]\n",
    "    return alist "
   ]
  },
  {
   "cell_type": "code",
   "execution_count": 15,
   "metadata": {},
   "outputs": [
    {
     "data": {
      "text/plain": [
       "[1, 2, 3, 4, 5, 6, 7, 8, 9]"
      ]
     },
     "execution_count": 15,
     "metadata": {},
     "output_type": "execute_result"
    }
   ],
   "source": [
    "bubble_sort1([1, 8, 9, 7, 3, 5, 2, 6, 4])"
   ]
  },
  {
   "cell_type": "markdown",
   "metadata": {},
   "source": [
    "### 改进版"
   ]
  },
  {
   "cell_type": "code",
   "execution_count": 16,
   "metadata": {},
   "outputs": [],
   "source": [
    "def bubble_sort(alist):\n",
    "    # 冒泡排序\n",
    "    n = len(alist)\n",
    "    # 外层循环控制走多少趟：最后一个数到达末尾，无需再进行比较\n",
    "    for j in range(n-1):\n",
    "        # 初始状态代表重来没有交换过\n",
    "        count = 0\n",
    "        # 内层循环控制每趟比较多少次：已经排好序的数不需再进行比较（j个）\n",
    "        for i in range(0, n-j-1):\n",
    "            # 升序排列\n",
    "            if alist[i] > alist[i+1]:\n",
    "                alist[i], alist[i+1] = alist[i+1], alist[i]\n",
    "                # 如果有交换，则执行自加\n",
    "                count += 1\n",
    "        # 内层for循环结束，count仍为0，说明一次也没有交换过，也说明前面的数据已经是有序的\n",
    "        if 0 == count:\n",
    "            return"
   ]
  }
 ],
 "metadata": {
  "kernelspec": {
   "display_name": "Python 3",
   "language": "python",
   "name": "python3"
  },
  "language_info": {
   "codemirror_mode": {
    "name": "ipython",
    "version": 3
   },
   "file_extension": ".py",
   "mimetype": "text/x-python",
   "name": "python",
   "nbconvert_exporter": "python",
   "pygments_lexer": "ipython3",
   "version": "3.7.2"
  },
  "latex_envs": {
   "LaTeX_envs_menu_present": true,
   "autoclose": false,
   "autocomplete": true,
   "bibliofile": "biblio.bib",
   "cite_by": "apalike",
   "current_citInitial": 1,
   "eqLabelWithNumbers": true,
   "eqNumInitial": 1,
   "hotkeys": {
    "equation": "Ctrl-E",
    "itemize": "Ctrl-I"
   },
   "labels_anchors": false,
   "latex_user_defs": false,
   "report_style_numbering": false,
   "user_envs_cfg": false
  },
  "nbTranslate": {
   "displayLangs": [
    "*"
   ],
   "hotkey": "alt-t",
   "langInMainMenu": true,
   "sourceLang": "en",
   "targetLang": "fr",
   "useGoogleTranslate": true
  }
 },
 "nbformat": 4,
 "nbformat_minor": 2
}
