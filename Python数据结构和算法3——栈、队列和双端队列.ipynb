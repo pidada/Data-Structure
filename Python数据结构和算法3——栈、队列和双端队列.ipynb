{
 "cells": [
  {
   "cell_type": "markdown",
   "metadata": {},
   "source": [
    "### 栈\n",
    ">栈`Stack`是一种线性的数据结构，`<span class=\"burk\">FILO</span>`（先进后出）的操作，可以用顺序表实现，也可以用链表来实现。\n",
    "#### 操作\n",
    "**栈的基本操作包含：**\n",
    "- stack()：创建空的栈\n",
    "- push()：入栈\n",
    "- pop()：出栈\n",
    "- peek()：返回栈顶元素\n",
    "- is_empty()：判断是否为空栈\n",
    "- size()：返回栈的元素个数"
   ]
  },
  {
   "cell_type": "code",
   "execution_count": 5,
   "metadata": {},
   "outputs": [
    {
     "name": "stdout",
     "output_type": "stream",
     "text": [
      "5\n",
      "4\n",
      "3\n",
      "2\n",
      "1\n"
     ]
    }
   ],
   "source": [
    "# coding: utf-8\n",
    "# 栈的实现\n",
    "\n",
    "class Stack(object):\n",
    "    \"\"\"Stack\"\"\"\n",
    "    def __init__(self):\n",
    "        self.__list = []\n",
    "    \n",
    "    def push(self, item):\n",
    "        # 添加元素到栈顶\n",
    "        self.__list.append(item)\n",
    "    \n",
    "    def pop(self):\n",
    "        # 弹出栈顶元素\n",
    "        return self.__list.pop()\n",
    "    \n",
    "    def peek(self):\n",
    "        # 返回栈顶元素\n",
    "        # 需要判断是否为空列表\n",
    "        if self.__list:\n",
    "            return self.__list[-1]\n",
    "        else:\n",
    "            return None\n",
    "    \n",
    "    def size(self):\n",
    "        # 返回栈的元素个数\n",
    "        return len(self.__list)\n",
    "    \n",
    "    def is_empty(self):\n",
    "        # 判断是否为空\n",
    "        # 空列表返回真\n",
    "        return self.__list == []\n",
    "        # 如果是空列表，布尔值为F，取反变成T\n",
    "        # return not self.__list\n",
    "    \n",
    "if __name__ == \"__main__\":\n",
    "    s = Stack()\n",
    "    s.push(1)\n",
    "    s.push(2)\n",
    "    s.push(3)\n",
    "    s.push(4)\n",
    "    s.push(5)\n",
    "    \n",
    "    print(s.pop())\n",
    "    print(s.pop())\n",
    "    print(s.pop())\n",
    "    print(s.pop())\n",
    "    print(s.pop())"
   ]
  },
  {
   "cell_type": "markdown",
   "metadata": {},
   "source": [
    "### 队列\n",
    "####概念\n",
    "队列`queue`也是一种线性结构，方式是先进先出`FIFO`， 想象成一支队伍。\n",
    "- 允许插入数据的一端：队尾\n",
    "- 允许删除的一端：队头\n",
    "假设队列$q=(a_1, a_2 ,..., a_n)$，则$a_1$是队头元素，$a_n$是队尾元素。删除从$a_1$开始，添加从$a_n$开始\n",
    "\n",
    "#### 操作\n",
    "几个重要的操作\n",
    "- enqueue()：插入元素\n",
    "- dequeue()：删除元素\n",
    "- is_empty()：判断是否为空\n",
    "- size()：返回元素个数"
   ]
  },
  {
   "cell_type": "code",
   "execution_count": 6,
   "metadata": {},
   "outputs": [
    {
     "name": "stdout",
     "output_type": "stream",
     "text": [
      "1\n",
      "2\n",
      "3\n",
      "4\n",
      "5\n"
     ]
    }
   ],
   "source": [
    "# coding: utf-8\n",
    "\n",
    "class Queue(object):\n",
    "    # Queue\n",
    "    def __init__(self):\n",
    "        self.__list = []\n",
    "    \n",
    "    def enqueue(self, item):\n",
    "        # 添加元素：append默认是添加到末尾\n",
    "        self.__list.append(item)\n",
    "        # self.__list.append(0, item)\n",
    "    \n",
    "    def dequeue(self):\n",
    "        # 从队列头部删除元素：pop默认是末尾\n",
    "        return  self.__list.pop(0)\n",
    "        # return  self.__list.pop()\n",
    "    \n",
    "    def is_empty(self):\n",
    "        # 判断是否为空\n",
    "        return self._list == []\n",
    "    \n",
    "    def size(self):\n",
    "        # 返回个数\n",
    "        return len(self.__list)\n",
    "    \n",
    "if __name__ == \"__main__\":\n",
    "    q = Queue()\n",
    "    \n",
    "    q.enqueue(1)\n",
    "    q.enqueue(2)\n",
    "    q.enqueue(3)\n",
    "    q.enqueue(4)\n",
    "    q.enqueue(5)\n",
    "    \n",
    "    print(q.dequeue())\n",
    "    print(q.dequeue())\n",
    "    print(q.dequeue())\n",
    "    print(q.dequeue())\n",
    "    print(q.dequeue())"
   ]
  },
  {
   "cell_type": "markdown",
   "metadata": {},
   "source": [
    "### 双端队列\n",
    "能够在队头和队尾<span class=\"burk\">同时进行插入和删除</span>的操作"
   ]
  },
  {
   "cell_type": "code",
   "execution_count": 9,
   "metadata": {},
   "outputs": [
    {
     "name": "stdout",
     "output_type": "stream",
     "text": [
      "3\n",
      "2\n",
      "1\n",
      "6\n",
      "5\n",
      "4\n"
     ]
    }
   ],
   "source": [
    "# coding: utf-8\n",
    "# 双端队列\n",
    "\n",
    "class Dueue(object):\n",
    "    # Doublequeue\n",
    "    # 构造函数，用来定义私有化属性\n",
    "    def __init__(self):\n",
    "        self.__list = []\n",
    "    \n",
    "    def add_front(self, item):\n",
    "        # 添加元素：append默认是添加到末尾；也可以指定位置\n",
    "        # 双端队列中哪里添加就在哪里删除\n",
    "        self.__list.insert(0, item)\n",
    "        # self.__list.append(0, item)\n",
    "    \n",
    "    def add_rear(self, item):\n",
    "        # 从队列头部删除元素：pop默认是末尾\n",
    "        self.__list.append(item)\n",
    "    \n",
    "    def pop_front(self):\n",
    "        # 头部删除\n",
    "        return self.__list.pop(0)\n",
    "    \n",
    "    def pop_rear(self):\n",
    "        # 尾部删除\n",
    "        return self.__list.pop()\n",
    "    \n",
    "    def is_empty(self):\n",
    "        # 判断是否为空\n",
    "        return self._list == []\n",
    "    \n",
    "    def size(self):\n",
    "        # 返回个数\n",
    "        return len(self.__list)\n",
    "    \n",
    "if __name__ == \"__main__\":\n",
    "    q = Dueue()\n",
    "    \n",
    "    # 头部插入 \n",
    "    q.add_front(1)\n",
    "    q.add_front(2)\n",
    "    q.add_front(3)\n",
    "    # 尾部删除\n",
    "    q.add_rear(4)\n",
    "    q.add_rear(5)\n",
    "    q.add_rear(6)\n",
    "    \n",
    "    # 同步删除\n",
    "    print(q.pop_front())\n",
    "    print(q.pop_front())\n",
    "    print(q.pop_front())\n",
    "    # 尾部删除\n",
    "    print(q.pop_rear())\n",
    "    print(q.pop_rear())\n",
    "    print(q.pop_rear())"
   ]
  },
  {
   "cell_type": "code",
   "execution_count": null,
   "metadata": {},
   "outputs": [],
   "source": []
  }
 ],
 "metadata": {
  "kernelspec": {
   "display_name": "Python 3",
   "language": "python",
   "name": "python3"
  },
  "language_info": {
   "codemirror_mode": {
    "name": "ipython",
    "version": 3
   },
   "file_extension": ".py",
   "mimetype": "text/x-python",
   "name": "python",
   "nbconvert_exporter": "python",
   "pygments_lexer": "ipython3",
   "version": "3.7.2"
  },
  "latex_envs": {
   "LaTeX_envs_menu_present": true,
   "autoclose": false,
   "autocomplete": true,
   "bibliofile": "biblio.bib",
   "cite_by": "apalike",
   "current_citInitial": 1,
   "eqLabelWithNumbers": true,
   "eqNumInitial": 1,
   "hotkeys": {
    "equation": "Ctrl-E",
    "itemize": "Ctrl-I"
   },
   "labels_anchors": false,
   "latex_user_defs": false,
   "report_style_numbering": false,
   "user_envs_cfg": false
  },
  "nbTranslate": {
   "displayLangs": [
    "*"
   ],
   "hotkey": "alt-t",
   "langInMainMenu": true,
   "sourceLang": "en",
   "targetLang": "fr",
   "useGoogleTranslate": true
  }
 },
 "nbformat": 4,
 "nbformat_minor": 2
}
